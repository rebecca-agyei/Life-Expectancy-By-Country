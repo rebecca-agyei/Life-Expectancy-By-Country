{
 "cells": [
  {
   "cell_type": "code",
   "execution_count": 3,
   "id": "347489b0",
   "metadata": {},
   "outputs": [
    {
     "name": "stdout",
     "output_type": "stream",
     "text": [
      "The life expectancy quartiles are  [62.325     72.525     75.4421875]\n",
      "The median GDP is  2938.0781152500003\n",
      "The low GDP quartiles are  [56.3375  64.34375 71.7375 ]\n",
      "The low GDP quartiles are  [72.965625 75.15625  80.521875]\n"
     ]
    },
    {
     "data": {
      "image/png": "[encoded data removed]",
      "text/plain": [
       "<Figure size 432x288 with 1 Axes>"
      ]
     },
     "metadata": {
      "needs_background": "light"
     },
     "output_type": "display_data"
    }
   ],
   "source": [
    "import numpy as np\n",
    "import pandas as pd\n",
    "import matplotlib.pyplot as plt\n",
    "\n",
    "data = pd.read_csv(\"country_data.csv\")\n",
    "\n",
    "# Access the Data\n",
    "# print(data.head())\n",
    "\n",
    "life_expectancy = data[\"Life Expectancy\"]\n",
    "\n",
    "# Find the Quantiles\n",
    "\n",
    "life_expectancy_quartiles = np.quantile(life_expectancy, [0.25, 0.5, 0.75])\n",
    "print('The life expectancy quartiles are ', life_expectancy_quartiles)\n",
    "\n",
    "# My country with life expectancy of 70 years will fall in the 2nd Quarter of the data\n",
    "\n",
    "# Splitting the Data by GDP\n",
    "\n",
    "gdp = data[\"GDP\"]\n",
    "median_gdp = np.quantile(gdp, 0.5)\n",
    "print('The median GDP is ', median_gdp)\n",
    "\n",
    "low_gdp = data[data[\"GDP\"] <= median_gdp]\n",
    "high_gdp = data[data[\"GDP\"] > median_gdp]\n",
    "\n",
    "low_gdp_quartiles = np.quantile(low_gdp[\"Life Expectancy\"], [0.25, 0.5, 0.75])\n",
    "print('The low GDP quartiles are ', low_gdp_quartiles)\n",
    "\n",
    "high_gdp_quartiles = np.quantile(high_gdp[\"Life Expectancy\"], [0.25, 0.5, 0.75])\n",
    "print('The low GDP quartiles are ', high_gdp_quartiles)\n",
    "\n",
    "plt.hist(high_gdp[\"Life Expectancy\"], alpha = 0.5, label = \"High GDP\")\n",
    "plt.hist(low_gdp[\"Life Expectancy\"], alpha = 0.5, label = \"Low GDP\")\n",
    "plt.legend()\n",
    "plt.show()\n",
    "\n",
    "# A country that has a life expectancy of 70 years is in the 3rd Quarter of the Top Half of GDP countries.\n",
    "# A country that has a life expectancy of 70 years is in the 1st Quarter of the Bottom Half of GDP countries.\n"
   ]
  },
  {
   "cell_type": "code",
   "execution_count": null,
   "id": "aa7ff9dd",
   "metadata": {},
   "outputs": [],
   "source": []
  }
 ],
 "metadata": {
  "kernelspec": {
   "display_name": "Python 3",
   "language": "python",
   "name": "python3"
  },
  "language_info": {
   "codemirror_mode": {
    "name": "ipython",
    "version": 3
   },
   "file_extension": ".py",
   "mimetype": "text/x-python",
   "name": "python",
   "nbconvert_exporter": "python",
   "pygments_lexer": "ipython3",
   "version": "3.8.8"
  }
 },
 "nbformat": 4,
 "nbformat_minor": 5
}
